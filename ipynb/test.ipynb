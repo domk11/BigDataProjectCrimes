{
 "cells": [
  {
   "cell_type": "code",
   "execution_count": 2,
   "metadata": {},
   "outputs": [
    {
     "name": "stdout",
     "output_type": "stream",
     "text": [
      "/home/andrea/data_science_police\n"
     ]
    }
   ],
   "source": [
    "cd .."
   ]
  },
  {
   "cell_type": "code",
   "execution_count": 3,
   "metadata": {},
   "outputs": [],
   "source": [
    "from bson import ObjectId\n",
    "\n",
    "from lib.database import connect_db, Database\n",
    "\n",
    "\n",
    "db = Database(connect_db().get_database())"
   ]
  },
  {
   "cell_type": "code",
   "execution_count": 5,
   "metadata": {},
   "outputs": [
    {
     "data": {
      "text/plain": [
       "{'id': '5eeb46f837762c53c8a707ba',\n",
       " 'date': '11/10/2009',\n",
       " 'time': '16:35:00',\n",
       " 'precinct': 79,\n",
       " 'offense_code': 341,\n",
       " 'offense_description': 'PETIT LARCENY',\n",
       " 'crime_outcome': 'COMPLETED',\n",
       " 'level_offense': 'MISDEMEANOR',\n",
       " 'borough': 'BROOKLYN',\n",
       " 'latitude': 40.681004729,\n",
       " 'longitude': -73.955034577,\n",
       " 'age': '',\n",
       " 'race': '',\n",
       " 'sex': ''}"
      ]
     },
     "execution_count": 5,
     "metadata": {},
     "output_type": "execute_result"
    }
   ],
   "source": [
    "db.get_nypd('5eeb46f837762c53c8a707ba').to_dict()"
   ]
  }
 ],
 "metadata": {
  "kernelspec": {
   "display_name": "Python 3",
   "language": "python",
   "name": "python3"
  },
  "language_info": {
   "codemirror_mode": {
    "name": "ipython",
    "version": 3
   },
   "file_extension": ".py",
   "mimetype": "text/x-python",
   "name": "python",
   "nbconvert_exporter": "python",
   "pygments_lexer": "ipython3",
   "version": "3.7.6"
  }
 },
 "nbformat": 4,
 "nbformat_minor": 4
}
